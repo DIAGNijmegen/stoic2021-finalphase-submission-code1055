{
 "cells": [
  {
   "cell_type": "code",
   "execution_count": 2,
   "metadata": {},
   "outputs": [],
   "source": [
    "import pandas as pd\n",
    "import SimpleITK as sitk\n",
    "from pathlib import Path\n",
    "from tqdm.notebook import tqdm"
   ]
  },
  {
   "cell_type": "code",
   "execution_count": 3,
   "metadata": {},
   "outputs": [],
   "source": [
    "def assign_folds(df, num_folds, random_state=None):\n",
    "    fold_size = len(df) // num_folds\n",
    "    orig_len = len(df)\n",
    "    folds = []\n",
    "    for fold_id in range(num_folds - 1):\n",
    "        fold_frac = fold_size / (orig_len - fold_id * fold_size)\n",
    "        fold = df.groupby([\"probCOVID\", \"probSevere\", \"sex\"]).sample(frac=fold_frac, random_state=random_state)\n",
    "        df = df.drop(index=fold.index)\n",
    "        fold[\"cv\"] = fold_id\n",
    "        folds.append(fold)\n",
    "    df[\"cv\"] = num_folds - 1\n",
    "    folds.append(df)\n",
    "    return pd.concat(folds).sort_index()"
   ]
  },
  {
   "cell_type": "code",
   "execution_count": 4,
   "metadata": {},
   "outputs": [],
   "source": [
    "def balance(df):\n",
    "    sev_only = df[df.probSevere == 1]\n",
    "    r = int(len(df) / len(sev_only) - 1)\n",
    "    return pd.concat([df] + [sev_only] * r).sort_index()"
   ]
  },
  {
   "cell_type": "code",
   "execution_count": 5,
   "metadata": {},
   "outputs": [],
   "source": [
    "def get_age_sex(patient):\n",
    "    img = sitk.ReadImage(str(dataroot/\"data\"/\"mha\"/f\"{patient}.mha\"))\n",
    "    return img.GetMetaData(\"PatientAge\"), img.GetMetaData(\"PatientSex\")"
   ]
  },
  {
   "cell_type": "code",
   "execution_count": 6,
   "metadata": {},
   "outputs": [],
   "source": [
    "dataroot = Path(\"~/data/stoic/data\").expanduser()"
   ]
  },
  {
   "cell_type": "code",
   "execution_count": null,
   "metadata": {},
   "outputs": [],
   "source": [
    "ref = pd.read_csv(dataroot/\"metadata\"/\"reference.csv\", index_col=\"PatientID\")\n",
    "\n",
    "ages = []\n",
    "sexs = []\n",
    "# takes about an hour\n",
    "for patient in tqdm(ref.index):\n",
    "    age, sex = get_age_sex(patient)\n",
    "    ages.append(age)\n",
    "    sexs.append(sex)\n",
    "\n",
    "ref[\"age\"] = ages\n",
    "ref[\"sex\"] = sexs\n",
    "\n",
    "ref.to_csv(\"ref.csv\", index=True)"
   ]
  },
  {
   "cell_type": "code",
   "execution_count": 6,
   "metadata": {},
   "outputs": [],
   "source": [
    "ref = pd.read_csv(\"ref.csv\", index_col=\"PatientID\")"
   ]
  },
  {
   "cell_type": "code",
   "execution_count": 9,
   "metadata": {},
   "outputs": [],
   "source": [
    "val_ratio = 0.1\n",
    "g = ref.groupby([\"probCOVID\", \"probSevere\", \"age\", \"sex\"])\n",
    "\n",
    "val = g.sample(frac=val_ratio, replace=False)\n",
    "val[\"set\"] = \"val\"\n",
    "\n",
    "train = ref.drop(index=val.index)\n",
    "train[\"set\"] = \"train\"\n",
    "\n",
    "split = pd.concat([train, val])\n",
    "assert len(split) == len(ref)\n",
    "split.to_csv(\"split_meta.csv\", index=True)"
   ]
  },
  {
   "cell_type": "markdown",
   "metadata": {},
   "source": [
    "Balance probSevere"
   ]
  },
  {
   "cell_type": "code",
   "execution_count": 30,
   "metadata": {},
   "outputs": [],
   "source": [
    "split = pd.read_csv(\"split_meta.csv\", index_col=\"PatientID\")"
   ]
  },
  {
   "cell_type": "code",
   "execution_count": 52,
   "metadata": {},
   "outputs": [],
   "source": [
    "train8 = assign_folds(split[split.set == \"train\"], num_folds=8)\n",
    "val8 = split[split.set == \"val\"].copy()\n",
    "val8[\"cv\"] = -1\n",
    "split8 = pd.concat([train8, val8]).sort_index()\n",
    "\n",
    "split8.to_csv(\"split_meta8.csv\", index=True)"
   ]
  },
  {
   "cell_type": "code",
   "execution_count": 59,
   "metadata": {},
   "outputs": [],
   "source": [
    "trainb8 = split8[(split8.set == \"train\") & (split8.probCOVID == 1)]\n",
    "trainb8 = balance(trainb8)\n",
    "valb8 = split8[split8.set == \"val\"]\n",
    "balance8 = pd.concat([trainb8, valb8]).sort_index()\n",
    "balance8.to_csv(\"split_meta_sevbalance8.csv\", index=True)"
   ]
  },
  {
   "cell_type": "markdown",
   "metadata": {},
   "source": [
    "8-fold cross-validation split without extra test set (for submission)."
   ]
  },
  {
   "cell_type": "code",
   "execution_count": 21,
   "metadata": {},
   "outputs": [],
   "source": [
    "cv8 = balance(assign_folds(ref[ref.probCOVID == 1], num_folds=8))\n",
    "cv8[\"set\"] = \"train\"\n",
    "cv8.to_csv(\"split_sev_cv8.csv\", index=True)"
   ]
  },
  {
   "cell_type": "markdown",
   "metadata": {},
   "source": [
    "8fold cross-validation split but with probCOVID==0 cases"
   ]
  },
  {
   "cell_type": "code",
   "execution_count": 8,
   "metadata": {},
   "outputs": [],
   "source": [
    "cv8 = pd.read_csv(\"split_sev_cv8.csv\")"
   ]
  },
  {
   "cell_type": "code",
   "execution_count": 18,
   "metadata": {},
   "outputs": [],
   "source": [
    "noinf8 = assign_folds(ref[ref.probCOVID == 0], num_folds=8).reset_index()\n",
    "noinf8[\"set\"] = \"train\"\n",
    "pd.concat([cv8, noinf8]).to_csv(\"split_all_cv8.csv\", index=False)"
   ]
  },
  {
   "cell_type": "markdown",
   "metadata": {},
   "source": [
    "## 5-fold"
   ]
  },
  {
   "cell_type": "code",
   "execution_count": 13,
   "metadata": {},
   "outputs": [],
   "source": [
    "cv5 = balance(assign_folds(ref[ref.probCOVID == 1], num_folds=5, random_state=1055))\n",
    "cv5[\"set\"] = \"train\"\n",
    "cv5.to_csv(\"split_sev_cv5.csv\", index=True)"
   ]
  },
  {
   "cell_type": "code",
   "execution_count": 7,
   "metadata": {},
   "outputs": [],
   "source": [
    "cv5_inf1 = balance(assign_folds(ref[ref.probCOVID == 1], num_folds=5, random_state=1055))\n",
    "cv5_inf0 = assign_folds(ref[ref.probCOVID == 0], num_folds=5, random_state=1055)\n",
    "cv5 = pd.concat([cv5_inf0, cv5_inf1])\n",
    "cv5[\"set\"] = \"train\"\n",
    "cv5.to_csv(\"sevbal_cv5.csv\", index=True)\n",
    "cv5[\"set\"] = [\"val\" if cv == 0 else \"train\" for cv in cv5[\"cv\"]]\n",
    "# remove duplicates from validation set\n",
    "cv5 = pd.concat([cv5[cv5[\"set\"] == \"train\"], cv5.loc[cv5[cv5[\"set\"] == \"val\"].index.unique()]])\n",
    "cv5.to_csv(\"sevbal_cv5_val=0.csv\", index=True)"
   ]
  }
 ],
 "metadata": {
  "interpreter": {
   "hash": "5bf57f6eadce36d05930f77e01ab1d093b1664a4aa8554265395a94754efa83a"
  },
  "kernelspec": {
   "display_name": "Python 3.9.7 ('stoic')",
   "language": "python",
   "name": "python3"
  },
  "language_info": {
   "codemirror_mode": {
    "name": "ipython",
    "version": 3
   },
   "file_extension": ".py",
   "mimetype": "text/x-python",
   "name": "python",
   "nbconvert_exporter": "python",
   "pygments_lexer": "ipython3",
   "version": "3.9.7"
  },
  "orig_nbformat": 4
 },
 "nbformat": 4,
 "nbformat_minor": 2
}
